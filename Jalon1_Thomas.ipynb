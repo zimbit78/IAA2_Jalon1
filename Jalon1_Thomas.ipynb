{
  "cells": [
    {
      "cell_type": "markdown",
      "metadata": {
        "id": "view-in-github",
        "colab_type": "text"
      },
      "source": [
        "<a href=\"https://colab.research.google.com/github/zimbit78/IAA2_Jalon1/blob/main/Jalon1_Thomas.ipynb\" target=\"_parent\"><img src=\"https://colab.research.google.com/assets/colab-badge.svg\" alt=\"Open In Colab\"/></a>"
      ]
    },
    {
      "cell_type": "code",
      "source": [
        "!pip3 install contractions"
      ],
      "metadata": {
        "id": "Tn1ZBWZpTEHr"
      },
      "id": "Tn1ZBWZpTEHr",
      "execution_count": null,
      "outputs": []
    },
    {
      "cell_type": "code",
      "execution_count": 77,
      "id": "0913c105",
      "metadata": {
        "colab": {
          "base_uri": "https://localhost:8080/"
        },
        "id": "0913c105",
        "outputId": "1043016f-f485-4836-d6d8-fb38df194a27"
      },
      "outputs": [
        {
          "output_type": "stream",
          "name": "stdout",
          "text": [
            "[nltk_data] Downloading package wordnet to /root/nltk_data...\n",
            "[nltk_data]   Package wordnet is already up-to-date!\n",
            "[nltk_data] Downloading package stopwords to /root/nltk_data...\n",
            "[nltk_data]   Package stopwords is already up-to-date!\n",
            "[nltk_data] Downloading package averaged_perceptron_tagger to\n",
            "[nltk_data]     /root/nltk_data...\n",
            "[nltk_data]   Package averaged_perceptron_tagger is already up-to-\n",
            "[nltk_data]       date!\n"
          ]
        }
      ],
      "source": [
        "import pandas as pd\n",
        "import numpy as np\n",
        "import os\n",
        "import matplotlib.pyplot as plt\n",
        "import seaborn as sns\n",
        "\n",
        "from sklearn.feature_extraction.text import CountVectorizer\n",
        "from sklearn.feature_extraction.text import TfidfVectorizer\n",
        "from sklearn.decomposition import NMF\n",
        "\n",
        "from wordcloud import WordCloud\n",
        "\n",
        "import nltk\n",
        "nltk.download('wordnet')\n",
        "nltk.download('stopwords')\n",
        "nltk.download('averaged_perceptron_tagger')\n",
        "from nltk.tokenize import RegexpTokenizer\n",
        "from nltk.stem import WordNetLemmatizer\n",
        "from nltk.corpus import stopwords\n",
        "import contractions\n",
        "\n",
        "import re"
      ]
    },
    {
      "cell_type": "markdown",
      "id": "a8509fa3",
      "metadata": {
        "id": "a8509fa3"
      },
      "source": [
        "# 1. Exploration du jeu de données"
      ]
    },
    {
      "cell_type": "code",
      "execution_count": 3,
      "id": "9c02c708",
      "metadata": {
        "id": "9c02c708"
      },
      "outputs": [],
      "source": [
        "DATASET_FILE = \"./dataset.csv\""
      ]
    },
    {
      "cell_type": "code",
      "execution_count": 4,
      "id": "7189943a",
      "metadata": {
        "colab": {
          "base_uri": "https://localhost:8080/",
          "height": 424
        },
        "id": "7189943a",
        "outputId": "66b389b8-d916-49c9-a8a9-8f7b5fb39421"
      },
      "outputs": [
        {
          "output_type": "execute_result",
          "data": {
            "text/html": [
              "\n",
              "  <div id=\"df-5fd662b8-5642-46fd-bb6a-094d42544480\">\n",
              "    <div class=\"colab-df-container\">\n",
              "      <div>\n",
              "<style scoped>\n",
              "    .dataframe tbody tr th:only-of-type {\n",
              "        vertical-align: middle;\n",
              "    }\n",
              "\n",
              "    .dataframe tbody tr th {\n",
              "        vertical-align: top;\n",
              "    }\n",
              "\n",
              "    .dataframe thead th {\n",
              "        text-align: right;\n",
              "    }\n",
              "</style>\n",
              "<table border=\"1\" class=\"dataframe\">\n",
              "  <thead>\n",
              "    <tr style=\"text-align: right;\">\n",
              "      <th></th>\n",
              "      <th>text</th>\n",
              "      <th>stars</th>\n",
              "    </tr>\n",
              "  </thead>\n",
              "  <tbody>\n",
              "    <tr>\n",
              "      <th>0</th>\n",
              "      <td>I've only had food from here once and it wasn'...</td>\n",
              "      <td>1</td>\n",
              "    </tr>\n",
              "    <tr>\n",
              "      <th>1</th>\n",
              "      <td>I will never return here again.  Ever.  I was ...</td>\n",
              "      <td>1</td>\n",
              "    </tr>\n",
              "    <tr>\n",
              "      <th>2</th>\n",
              "      <td>I wish my experience was great as others. I di...</td>\n",
              "      <td>1</td>\n",
              "    </tr>\n",
              "    <tr>\n",
              "      <th>3</th>\n",
              "      <td>Are the rosemary grapefruit scones supposed to...</td>\n",
              "      <td>1</td>\n",
              "    </tr>\n",
              "    <tr>\n",
              "      <th>4</th>\n",
              "      <td>Our takeout order was half wrong. Food was mis...</td>\n",
              "      <td>1</td>\n",
              "    </tr>\n",
              "    <tr>\n",
              "      <th>...</th>\n",
              "      <td>...</td>\n",
              "      <td>...</td>\n",
              "    </tr>\n",
              "    <tr>\n",
              "      <th>24995</th>\n",
              "      <td>I was a loyal fan of Aroy before the ownership...</td>\n",
              "      <td>5</td>\n",
              "    </tr>\n",
              "    <tr>\n",
              "      <th>24996</th>\n",
              "      <td>Stopped here for a bite while wandering around...</td>\n",
              "      <td>5</td>\n",
              "    </tr>\n",
              "    <tr>\n",
              "      <th>24997</th>\n",
              "      <td>A quiet place with excellent food, great music...</td>\n",
              "      <td>5</td>\n",
              "    </tr>\n",
              "    <tr>\n",
              "      <th>24998</th>\n",
              "      <td>Super delicious food. Awesome vibe. I suffered...</td>\n",
              "      <td>5</td>\n",
              "    </tr>\n",
              "    <tr>\n",
              "      <th>24999</th>\n",
              "      <td>I have a lot of dietary restrictions and this ...</td>\n",
              "      <td>5</td>\n",
              "    </tr>\n",
              "  </tbody>\n",
              "</table>\n",
              "<p>25000 rows × 2 columns</p>\n",
              "</div>\n",
              "      <button class=\"colab-df-convert\" onclick=\"convertToInteractive('df-5fd662b8-5642-46fd-bb6a-094d42544480')\"\n",
              "              title=\"Convert this dataframe to an interactive table.\"\n",
              "              style=\"display:none;\">\n",
              "        \n",
              "  <svg xmlns=\"http://www.w3.org/2000/svg\" height=\"24px\"viewBox=\"0 0 24 24\"\n",
              "       width=\"24px\">\n",
              "    <path d=\"M0 0h24v24H0V0z\" fill=\"none\"/>\n",
              "    <path d=\"M18.56 5.44l.94 2.06.94-2.06 2.06-.94-2.06-.94-.94-2.06-.94 2.06-2.06.94zm-11 1L8.5 8.5l.94-2.06 2.06-.94-2.06-.94L8.5 2.5l-.94 2.06-2.06.94zm10 10l.94 2.06.94-2.06 2.06-.94-2.06-.94-.94-2.06-.94 2.06-2.06.94z\"/><path d=\"M17.41 7.96l-1.37-1.37c-.4-.4-.92-.59-1.43-.59-.52 0-1.04.2-1.43.59L10.3 9.45l-7.72 7.72c-.78.78-.78 2.05 0 2.83L4 21.41c.39.39.9.59 1.41.59.51 0 1.02-.2 1.41-.59l7.78-7.78 2.81-2.81c.8-.78.8-2.07 0-2.86zM5.41 20L4 18.59l7.72-7.72 1.47 1.35L5.41 20z\"/>\n",
              "  </svg>\n",
              "      </button>\n",
              "      \n",
              "  <style>\n",
              "    .colab-df-container {\n",
              "      display:flex;\n",
              "      flex-wrap:wrap;\n",
              "      gap: 12px;\n",
              "    }\n",
              "\n",
              "    .colab-df-convert {\n",
              "      background-color: #E8F0FE;\n",
              "      border: none;\n",
              "      border-radius: 50%;\n",
              "      cursor: pointer;\n",
              "      display: none;\n",
              "      fill: #1967D2;\n",
              "      height: 32px;\n",
              "      padding: 0 0 0 0;\n",
              "      width: 32px;\n",
              "    }\n",
              "\n",
              "    .colab-df-convert:hover {\n",
              "      background-color: #E2EBFA;\n",
              "      box-shadow: 0px 1px 2px rgba(60, 64, 67, 0.3), 0px 1px 3px 1px rgba(60, 64, 67, 0.15);\n",
              "      fill: #174EA6;\n",
              "    }\n",
              "\n",
              "    [theme=dark] .colab-df-convert {\n",
              "      background-color: #3B4455;\n",
              "      fill: #D2E3FC;\n",
              "    }\n",
              "\n",
              "    [theme=dark] .colab-df-convert:hover {\n",
              "      background-color: #434B5C;\n",
              "      box-shadow: 0px 1px 3px 1px rgba(0, 0, 0, 0.15);\n",
              "      filter: drop-shadow(0px 1px 2px rgba(0, 0, 0, 0.3));\n",
              "      fill: #FFFFFF;\n",
              "    }\n",
              "  </style>\n",
              "\n",
              "      <script>\n",
              "        const buttonEl =\n",
              "          document.querySelector('#df-5fd662b8-5642-46fd-bb6a-094d42544480 button.colab-df-convert');\n",
              "        buttonEl.style.display =\n",
              "          google.colab.kernel.accessAllowed ? 'block' : 'none';\n",
              "\n",
              "        async function convertToInteractive(key) {\n",
              "          const element = document.querySelector('#df-5fd662b8-5642-46fd-bb6a-094d42544480');\n",
              "          const dataTable =\n",
              "            await google.colab.kernel.invokeFunction('convertToInteractive',\n",
              "                                                     [key], {});\n",
              "          if (!dataTable) return;\n",
              "\n",
              "          const docLinkHtml = 'Like what you see? Visit the ' +\n",
              "            '<a target=\"_blank\" href=https://colab.research.google.com/notebooks/data_table.ipynb>data table notebook</a>'\n",
              "            + ' to learn more about interactive tables.';\n",
              "          element.innerHTML = '';\n",
              "          dataTable['output_type'] = 'display_data';\n",
              "          await google.colab.output.renderOutput(dataTable, element);\n",
              "          const docLink = document.createElement('div');\n",
              "          docLink.innerHTML = docLinkHtml;\n",
              "          element.appendChild(docLink);\n",
              "        }\n",
              "      </script>\n",
              "    </div>\n",
              "  </div>\n",
              "  "
            ],
            "text/plain": [
              "                                                    text  stars\n",
              "0      I've only had food from here once and it wasn'...      1\n",
              "1      I will never return here again.  Ever.  I was ...      1\n",
              "2      I wish my experience was great as others. I di...      1\n",
              "3      Are the rosemary grapefruit scones supposed to...      1\n",
              "4      Our takeout order was half wrong. Food was mis...      1\n",
              "...                                                  ...    ...\n",
              "24995  I was a loyal fan of Aroy before the ownership...      5\n",
              "24996  Stopped here for a bite while wandering around...      5\n",
              "24997  A quiet place with excellent food, great music...      5\n",
              "24998  Super delicious food. Awesome vibe. I suffered...      5\n",
              "24999  I have a lot of dietary restrictions and this ...      5\n",
              "\n",
              "[25000 rows x 2 columns]"
            ]
          },
          "metadata": {},
          "execution_count": 4
        }
      ],
      "source": [
        "dataset_df = pd.read_csv(DATASET_FILE)\n",
        "dataset_df"
      ]
    },
    {
      "cell_type": "markdown",
      "id": "41016530",
      "metadata": {
        "id": "41016530"
      },
      "source": [
        "## 1.1 Répartition des avis clients en fonction du nombre d'étoiles"
      ]
    },
    {
      "cell_type": "code",
      "execution_count": 5,
      "id": "d17ec02c",
      "metadata": {
        "colab": {
          "base_uri": "https://localhost:8080/"
        },
        "id": "d17ec02c",
        "outputId": "9f88be9e-843c-4675-c099-0de3e4235ab7"
      },
      "outputs": [
        {
          "output_type": "execute_result",
          "data": {
            "text/plain": [
              "0        1\n",
              "1        1\n",
              "2        1\n",
              "3        1\n",
              "4        1\n",
              "        ..\n",
              "24995    5\n",
              "24996    5\n",
              "24997    5\n",
              "24998    5\n",
              "24999    5\n",
              "Name: stars, Length: 25000, dtype: int64"
            ]
          },
          "metadata": {},
          "execution_count": 5
        }
      ],
      "source": [
        "stars_columns = dataset_df.stars\n",
        "stars_columns"
      ]
    },
    {
      "cell_type": "code",
      "execution_count": 6,
      "id": "3bbca579",
      "metadata": {
        "colab": {
          "base_uri": "https://localhost:8080/"
        },
        "id": "3bbca579",
        "outputId": "68621918-c692-4049-a09b-3ed967845bb0"
      },
      "outputs": [
        {
          "output_type": "execute_result",
          "data": {
            "text/plain": [
              "5    5000\n",
              "4    5000\n",
              "3    5000\n",
              "2    5000\n",
              "1    5000\n",
              "Name: stars, dtype: int64"
            ]
          },
          "metadata": {},
          "execution_count": 6
        }
      ],
      "source": [
        "stars_columns.value_counts()"
      ]
    },
    {
      "cell_type": "code",
      "execution_count": 7,
      "id": "4506e612",
      "metadata": {
        "colab": {
          "base_uri": "https://localhost:8080/",
          "height": 483
        },
        "id": "4506e612",
        "outputId": "054c5e76-d913-460e-9424-29670d978140"
      },
      "outputs": [
        {
          "output_type": "execute_result",
          "data": {
            "text/plain": [
              "<matplotlib.axes._subplots.AxesSubplot at 0x7fdba19b14d0>"
            ]
          },
          "metadata": {},
          "execution_count": 7
        },
        {
          "output_type": "display_data",
          "data": {
            "image/png": "[encoded data removed]",
            "text/plain": [
              "<Figure size 720x576 with 1 Axes>"
            ]
          },
          "metadata": {}
        }
      ],
      "source": [
        "stars_columns.value_counts().plot(kind=\"pie\", figsize=(10, 8), autopct=\"%1.1f%%\", shadow=True)"
      ]
    },
    {
      "cell_type": "markdown",
      "id": "092abd01",
      "metadata": {
        "id": "092abd01"
      },
      "source": [
        "## 1.2 Distribution de la longueur (nombre de mots) des avis clients"
      ]
    },
    {
      "cell_type": "code",
      "execution_count": 8,
      "id": "ef3cff01",
      "metadata": {
        "colab": {
          "base_uri": "https://localhost:8080/",
          "height": 424
        },
        "id": "ef3cff01",
        "outputId": "8b668f1a-c5cc-4b6b-bef1-e9fb88a0dd39"
      },
      "outputs": [
        {
          "output_type": "execute_result",
          "data": {
            "text/html": [
              "\n",
              "  <div id=\"df-8deb57d5-b57e-42d1-ba27-d4f5e70cce68\">\n",
              "    <div class=\"colab-df-container\">\n",
              "      <div>\n",
              "<style scoped>\n",
              "    .dataframe tbody tr th:only-of-type {\n",
              "        vertical-align: middle;\n",
              "    }\n",
              "\n",
              "    .dataframe tbody tr th {\n",
              "        vertical-align: top;\n",
              "    }\n",
              "\n",
              "    .dataframe thead th {\n",
              "        text-align: right;\n",
              "    }\n",
              "</style>\n",
              "<table border=\"1\" class=\"dataframe\">\n",
              "  <thead>\n",
              "    <tr style=\"text-align: right;\">\n",
              "      <th></th>\n",
              "      <th>text</th>\n",
              "      <th>stars</th>\n",
              "      <th>length</th>\n",
              "    </tr>\n",
              "  </thead>\n",
              "  <tbody>\n",
              "    <tr>\n",
              "      <th>0</th>\n",
              "      <td>I've only had food from here once and it wasn'...</td>\n",
              "      <td>1</td>\n",
              "      <td>68</td>\n",
              "    </tr>\n",
              "    <tr>\n",
              "      <th>1</th>\n",
              "      <td>I will never return here again.  Ever.  I was ...</td>\n",
              "      <td>1</td>\n",
              "      <td>87</td>\n",
              "    </tr>\n",
              "    <tr>\n",
              "      <th>2</th>\n",
              "      <td>I wish my experience was great as others. I di...</td>\n",
              "      <td>1</td>\n",
              "      <td>166</td>\n",
              "    </tr>\n",
              "    <tr>\n",
              "      <th>3</th>\n",
              "      <td>Are the rosemary grapefruit scones supposed to...</td>\n",
              "      <td>1</td>\n",
              "      <td>81</td>\n",
              "    </tr>\n",
              "    <tr>\n",
              "      <th>4</th>\n",
              "      <td>Our takeout order was half wrong. Food was mis...</td>\n",
              "      <td>1</td>\n",
              "      <td>32</td>\n",
              "    </tr>\n",
              "    <tr>\n",
              "      <th>...</th>\n",
              "      <td>...</td>\n",
              "      <td>...</td>\n",
              "      <td>...</td>\n",
              "    </tr>\n",
              "    <tr>\n",
              "      <th>24995</th>\n",
              "      <td>I was a loyal fan of Aroy before the ownership...</td>\n",
              "      <td>5</td>\n",
              "      <td>75</td>\n",
              "    </tr>\n",
              "    <tr>\n",
              "      <th>24996</th>\n",
              "      <td>Stopped here for a bite while wandering around...</td>\n",
              "      <td>5</td>\n",
              "      <td>55</td>\n",
              "    </tr>\n",
              "    <tr>\n",
              "      <th>24997</th>\n",
              "      <td>A quiet place with excellent food, great music...</td>\n",
              "      <td>5</td>\n",
              "      <td>32</td>\n",
              "    </tr>\n",
              "    <tr>\n",
              "      <th>24998</th>\n",
              "      <td>Super delicious food. Awesome vibe. I suffered...</td>\n",
              "      <td>5</td>\n",
              "      <td>41</td>\n",
              "    </tr>\n",
              "    <tr>\n",
              "      <th>24999</th>\n",
              "      <td>I have a lot of dietary restrictions and this ...</td>\n",
              "      <td>5</td>\n",
              "      <td>87</td>\n",
              "    </tr>\n",
              "  </tbody>\n",
              "</table>\n",
              "<p>25000 rows × 3 columns</p>\n",
              "</div>\n",
              "      <button class=\"colab-df-convert\" onclick=\"convertToInteractive('df-8deb57d5-b57e-42d1-ba27-d4f5e70cce68')\"\n",
              "              title=\"Convert this dataframe to an interactive table.\"\n",
              "              style=\"display:none;\">\n",
              "        \n",
              "  <svg xmlns=\"http://www.w3.org/2000/svg\" height=\"24px\"viewBox=\"0 0 24 24\"\n",
              "       width=\"24px\">\n",
              "    <path d=\"M0 0h24v24H0V0z\" fill=\"none\"/>\n",
              "    <path d=\"M18.56 5.44l.94 2.06.94-2.06 2.06-.94-2.06-.94-.94-2.06-.94 2.06-2.06.94zm-11 1L8.5 8.5l.94-2.06 2.06-.94-2.06-.94L8.5 2.5l-.94 2.06-2.06.94zm10 10l.94 2.06.94-2.06 2.06-.94-2.06-.94-.94-2.06-.94 2.06-2.06.94z\"/><path d=\"M17.41 7.96l-1.37-1.37c-.4-.4-.92-.59-1.43-.59-.52 0-1.04.2-1.43.59L10.3 9.45l-7.72 7.72c-.78.78-.78 2.05 0 2.83L4 21.41c.39.39.9.59 1.41.59.51 0 1.02-.2 1.41-.59l7.78-7.78 2.81-2.81c.8-.78.8-2.07 0-2.86zM5.41 20L4 18.59l7.72-7.72 1.47 1.35L5.41 20z\"/>\n",
              "  </svg>\n",
              "      </button>\n",
              "      \n",
              "  <style>\n",
              "    .colab-df-container {\n",
              "      display:flex;\n",
              "      flex-wrap:wrap;\n",
              "      gap: 12px;\n",
              "    }\n",
              "\n",
              "    .colab-df-convert {\n",
              "      background-color: #E8F0FE;\n",
              "      border: none;\n",
              "      border-radius: 50%;\n",
              "      cursor: pointer;\n",
              "      display: none;\n",
              "      fill: #1967D2;\n",
              "      height: 32px;\n",
              "      padding: 0 0 0 0;\n",
              "      width: 32px;\n",
              "    }\n",
              "\n",
              "    .colab-df-convert:hover {\n",
              "      background-color: #E2EBFA;\n",
              "      box-shadow: 0px 1px 2px rgba(60, 64, 67, 0.3), 0px 1px 3px 1px rgba(60, 64, 67, 0.15);\n",
              "      fill: #174EA6;\n",
              "    }\n",
              "\n",
              "    [theme=dark] .colab-df-convert {\n",
              "      background-color: #3B4455;\n",
              "      fill: #D2E3FC;\n",
              "    }\n",
              "\n",
              "    [theme=dark] .colab-df-convert:hover {\n",
              "      background-color: #434B5C;\n",
              "      box-shadow: 0px 1px 3px 1px rgba(0, 0, 0, 0.15);\n",
              "      filter: drop-shadow(0px 1px 2px rgba(0, 0, 0, 0.3));\n",
              "      fill: #FFFFFF;\n",
              "    }\n",
              "  </style>\n",
              "\n",
              "      <script>\n",
              "        const buttonEl =\n",
              "          document.querySelector('#df-8deb57d5-b57e-42d1-ba27-d4f5e70cce68 button.colab-df-convert');\n",
              "        buttonEl.style.display =\n",
              "          google.colab.kernel.accessAllowed ? 'block' : 'none';\n",
              "\n",
              "        async function convertToInteractive(key) {\n",
              "          const element = document.querySelector('#df-8deb57d5-b57e-42d1-ba27-d4f5e70cce68');\n",
              "          const dataTable =\n",
              "            await google.colab.kernel.invokeFunction('convertToInteractive',\n",
              "                                                     [key], {});\n",
              "          if (!dataTable) return;\n",
              "\n",
              "          const docLinkHtml = 'Like what you see? Visit the ' +\n",
              "            '<a target=\"_blank\" href=https://colab.research.google.com/notebooks/data_table.ipynb>data table notebook</a>'\n",
              "            + ' to learn more about interactive tables.';\n",
              "          element.innerHTML = '';\n",
              "          dataTable['output_type'] = 'display_data';\n",
              "          await google.colab.output.renderOutput(dataTable, element);\n",
              "          const docLink = document.createElement('div');\n",
              "          docLink.innerHTML = docLinkHtml;\n",
              "          element.appendChild(docLink);\n",
              "        }\n",
              "      </script>\n",
              "    </div>\n",
              "  </div>\n",
              "  "
            ],
            "text/plain": [
              "                                                    text  stars  length\n",
              "0      I've only had food from here once and it wasn'...      1      68\n",
              "1      I will never return here again.  Ever.  I was ...      1      87\n",
              "2      I wish my experience was great as others. I di...      1     166\n",
              "3      Are the rosemary grapefruit scones supposed to...      1      81\n",
              "4      Our takeout order was half wrong. Food was mis...      1      32\n",
              "...                                                  ...    ...     ...\n",
              "24995  I was a loyal fan of Aroy before the ownership...      5      75\n",
              "24996  Stopped here for a bite while wandering around...      5      55\n",
              "24997  A quiet place with excellent food, great music...      5      32\n",
              "24998  Super delicious food. Awesome vibe. I suffered...      5      41\n",
              "24999  I have a lot of dietary restrictions and this ...      5      87\n",
              "\n",
              "[25000 rows x 3 columns]"
            ]
          },
          "metadata": {},
          "execution_count": 8
        }
      ],
      "source": [
        "dataset_df[\"length\"] = dataset_df[\"text\"].apply(lambda x: len(x.split()))\n",
        "dataset_df"
      ]
    },
    {
      "cell_type": "code",
      "execution_count": 9,
      "id": "370a05a2",
      "metadata": {
        "colab": {
          "base_uri": "https://localhost:8080/",
          "height": 500
        },
        "id": "370a05a2",
        "outputId": "b995587f-c70d-444d-eb96-ca984dd8a95a"
      },
      "outputs": [
        {
          "output_type": "execute_result",
          "data": {
            "text/plain": [
              "<matplotlib.axes._subplots.AxesSubplot at 0x7fdba08de810>"
            ]
          },
          "metadata": {},
          "execution_count": 9
        },
        {
          "output_type": "display_data",
          "data": {
            "image/png": "[encoded data removed]",
            "text/plain": [
              "<Figure size 720x576 with 1 Axes>"
            ]
          },
          "metadata": {
            "needs_background": "light"
          }
        }
      ],
      "source": [
        "dataset_df.length.plot(kind=\"hist\", bins=100, figsize=(10, 8))"
      ]
    },
    {
      "cell_type": "markdown",
      "id": "985bc2b3",
      "metadata": {
        "id": "985bc2b3"
      },
      "source": [
        "## 1.3 Distribution de la longueur des avis clients en fonction du nombre d'étoiles des avis"
      ]
    },
    {
      "cell_type": "code",
      "execution_count": 10,
      "id": "27aac32d",
      "metadata": {
        "colab": {
          "base_uri": "https://localhost:8080/",
          "height": 530
        },
        "id": "27aac32d",
        "outputId": "e0cb4b1b-78ad-4620-ce50-1ab86489bf05"
      },
      "outputs": [
        {
          "output_type": "execute_result",
          "data": {
            "text/plain": [
              "Text(0.5, 1.0, \"Répartition des longueurs des avis en fonction du nombre d'étoiles\")"
            ]
          },
          "metadata": {},
          "execution_count": 10
        },
        {
          "output_type": "display_data",
          "data": {
            "image/png": "[encoded data removed]",
            "text/plain": [
              "<Figure size 720x576 with 1 Axes>"
            ]
          },
          "metadata": {
            "needs_background": "light"
          }
        }
      ],
      "source": [
        "plt.figure(figsize=(10, 8))\n",
        "\n",
        "ax = sns.boxplot(x=dataset_df.stars ,\n",
        "            y=dataset_df.length,\n",
        "            showmeans=True,\n",
        "            )\n",
        "ax.set_ylim(0, 400)\n",
        "\n",
        "ax.set_title(\"Répartition des longueurs des avis en fonction du nombre d'étoiles\")"
      ]
    },
    {
      "cell_type": "markdown",
      "id": "45d4e54e",
      "metadata": {
        "id": "45d4e54e"
      },
      "source": [
        "# 2. Pré-traitement du jeu de données"
      ]
    },
    {
      "cell_type": "code",
      "source": [
        "#tokennization\n",
        "#contractions\n",
        "#lowercase\n",
        "#stemming / Lemming\n",
        "#stopword"
      ],
      "metadata": {
        "id": "rNcvnW4FO4wQ"
      },
      "id": "rNcvnW4FO4wQ",
      "execution_count": 16,
      "outputs": []
    },
    {
      "cell_type": "code",
      "source": [
        "def tokenify(my_string) :\n",
        "  sentence_endings = r\"[.,?!]\"\n",
        "  phrase = \" \".join(re.split(sentence_endings,my_string))\n",
        "\n",
        "  spaces = r\"\\s+\"\n",
        "  token = re.split(spaces, phrase)\n",
        "\n",
        "  token = [t for t in token if t != '']\n",
        "  token = [t for t in token if not t.isdigit()]\n",
        "  return token\n"
      ],
      "metadata": {
        "id": "hdWLR7s0U3Bk"
      },
      "id": "hdWLR7s0U3Bk",
      "execution_count": 116,
      "outputs": []
    },
    {
      "cell_type": "code",
      "source": [
        "def expand(tokens) :\n",
        "  expanded_words = []   \n",
        "  for word in tokens:\n",
        "    # using contractions.fix to expand the shotened words\n",
        "    expanded_words.append(contractions.fix(word))\n",
        "  expanded_words = \" \".join(expanded_words).split()\n",
        "  expanded_words = [t.lower() for t in expanded_words]\n",
        "  return expanded_words"
      ],
      "metadata": {
        "id": "jQm8j8SLTqzu"
      },
      "id": "jQm8j8SLTqzu",
      "execution_count": 133,
      "outputs": []
    },
    {
      "cell_type": "code",
      "source": [
        "from collections import Counter\n",
        "\n",
        "def freq_words(text, n=10):\n",
        "  \"\"\"\n",
        "  Return :- Most frequent words\n",
        "  Input :- string\n",
        "  Output :-\n",
        "  \"\"\"\n",
        "  counter = Counter()\n",
        "  # tokenization\n",
        "  tokens = tokenify(text)\n",
        "  for word in tokens:\n",
        "    counter[word] = counter[word]+ 1\n",
        "\n",
        "  FrequentWords = []\n",
        "  # take top 10 frequent words\n",
        "  for (word, word_count) in counter.most_common(n):\n",
        "    FrequentWords.append(word)\n",
        "\n",
        "  return FrequentWords\n",
        "\n",
        "corpus = \" \".join(dataset_df['text'].values).lower()\n",
        "most_freq = freq_words(corpus,50)\n",
        "print(most_freq)"
      ],
      "metadata": {
        "colab": {
          "base_uri": "https://localhost:8080/"
        },
        "id": "lqAwz0PtvJsA",
        "outputId": "d4f41b6f-e6f5-41d6-db4c-ab45df0566f4"
      },
      "id": "lqAwz0PtvJsA",
      "execution_count": 183,
      "outputs": [
        {
          "output_type": "stream",
          "name": "stdout",
          "text": [
            "['the', 'and', 'a', 'i', 'to', 'was', 'of', 'it', 'for', 'is', 'in', 'we', 'but', 'that', 'my', 'with', 'this', 'not', 'on', 'food', 'they', 'had', 'were', 'you', 'have', 'good', 'at', 'so', 'place', 'be', 'are', 'as', 'there', 'our', 'like', 'just', 'very', 'if', 'out', 'service', 'all', 'great', 'here', 'me', 'one', 'get', 'when', 'time', 'their', 'back']\n"
          ]
        }
      ]
    },
    {
      "cell_type": "code",
      "source": [
        "def not_management(tokens):\n",
        "  while 'not' in tokens :\n",
        "    i = tokens.index('not')\n",
        "    tokens.remove('not')\n",
        "    if len(tokens) > i :\n",
        "      tokens[i] = 'NOT_'+tokens[i]\n",
        "    else :\n",
        "      tokens[-1] = 'NOT_'+tokens[-1]\n",
        "  while 'never' in tokens :\n",
        "    i = tokens.index('never')\n",
        "    tokens.remove('never')\n",
        "    if len(tokens) > i :\n",
        "      tokens[i] = 'NOT_'+tokens[i]\n",
        "    else :\n",
        "      tokens[-1] = 'NOT_'+tokens[-1]\n",
        "  return tokens\n",
        "\n",
        "def stop_wrd(tokens, most_freq = None) :\n",
        "  stop_words = set(stopwords.words('english'))\n",
        "  filtered_sentence = [w for w in tokens if not w in stop_words]\n",
        "  if most_freq != None :\n",
        "    filtered_sentence = [w for w in filtered_sentence if not w in most_freq]\n",
        "  return filtered_sentence"
      ],
      "metadata": {
        "id": "JcK-JmH7QKOj"
      },
      "id": "JcK-JmH7QKOj",
      "execution_count": 181,
      "outputs": []
    },
    {
      "cell_type": "code",
      "source": [
        "def lemmatization(tokens) :\n",
        "  lemmatizer = WordNetLemmatizer()\n",
        "  token_tag = nltk.pos_tag(tokens)\n",
        "  lemm_tokens = []\n",
        "  for word, tag in token_tag :\n",
        "    if tag.startswith('J'):\n",
        "      lemm_tokens.append(lemmatizer.lemmatize(word,'a'))\n",
        "    elif tag.startswith('V'):\n",
        "      lemm_tokens.append(lemmatizer.lemmatize(word,'v'))\n",
        "    elif tag.startswith('N'):\n",
        "      lemm_tokens.append(lemmatizer.lemmatize(word,'n'))\n",
        "    elif tag == 'PRP' :\n",
        "      lemm_tokens.append(word)\n",
        "    elif tag.startswith('R'):\n",
        "      lemm_tokens.append(lemmatizer.lemmatize(word,'r'))\n",
        "    else :\n",
        "      lemm_tokens.append(lemmatizer.lemmatize(word))\n",
        "  return lemm_tokens"
      ],
      "metadata": {
        "id": "YgodthrOZELo"
      },
      "id": "YgodthrOZELo",
      "execution_count": 113,
      "outputs": []
    },
    {
      "cell_type": "code",
      "source": [
        "def text_process (sentence, most_freq = None):\n",
        "  return lemmatization(stop_wrd(not_management(expand(tokenify(sentence))), most_freq))\n"
      ],
      "metadata": {
        "id": "rHDPcPAPnQlS"
      },
      "id": "rHDPcPAPnQlS",
      "execution_count": 150,
      "outputs": []
    },
    {
      "cell_type": "code",
      "source": [
        "tps = []\n",
        "for i,sentence in enumerate(dataset_df['text'].values) :\n",
        "  if i*100/len(dataset_df['text'].values) % 10 == 0 :\n",
        "    print(i*100/len(dataset_df['text'].values), '%')\n",
        "  tps.append(\" \".join(text_process(sentence, most_freq)))\n",
        "\n",
        "dataset_df['tokens'] = tps"
      ],
      "metadata": {
        "colab": {
          "base_uri": "https://localhost:8080/"
        },
        "id": "VgUkwl0GoAuO",
        "outputId": "f3170a91-d7ed-4a12-bbb5-d151c4576a81"
      },
      "id": "VgUkwl0GoAuO",
      "execution_count": 187,
      "outputs": [
        {
          "output_type": "stream",
          "name": "stdout",
          "text": [
            "0.0 %\n",
            "10.0 %\n",
            "20.0 %\n",
            "30.0 %\n",
            "40.0 %\n",
            "50.0 %\n",
            "60.0 %\n",
            "70.0 %\n",
            "80.0 %\n",
            "90.0 %\n"
          ]
        }
      ]
    },
    {
      "cell_type": "code",
      "source": [
        "dataset_df.to_csv('./dataset_tokens.csv')"
      ],
      "metadata": {
        "id": "tam-53kfxxFJ"
      },
      "id": "tam-53kfxxFJ",
      "execution_count": 189,
      "outputs": []
    },
    {
      "cell_type": "code",
      "source": [
        ""
      ],
      "metadata": {
        "id": "0dAJwStd3L3i"
      },
      "id": "0dAJwStd3L3i",
      "execution_count": null,
      "outputs": []
    }
  ],
  "metadata": {
    "kernelspec": {
      "display_name": "Python 3 (ipykernel)",
      "language": "python",
      "name": "python3"
    },
    "language_info": {
      "codemirror_mode": {
        "name": "ipython",
        "version": 3
      },
      "file_extension": ".py",
      "mimetype": "text/x-python",
      "name": "python",
      "nbconvert_exporter": "python",
      "pygments_lexer": "ipython3",
      "version": "3.7.2"
    },
    "colab": {
      "name": "Jalon1_Thomas.ipynb",
      "provenance": [],
      "collapsed_sections": [],
      "include_colab_link": true
    }
  },
  "nbformat": 4,
  "nbformat_minor": 5
}